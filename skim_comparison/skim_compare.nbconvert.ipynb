{
 "cells": [
  {
   "cell_type": "code",
   "execution_count": 1,
   "metadata": {
    "execution": {
     "iopub.execute_input": "2020-12-18T13:41:28.181340Z",
     "iopub.status.busy": "2020-12-18T13:41:28.179553Z",
     "iopub.status.idle": "2020-12-18T13:41:29.644152Z",
     "shell.execute_reply": "2020-12-18T13:41:29.644727Z"
    }
   },
   "outputs": [],
   "source": [
    "import pandas as pd\n",
    "import matplotlib.pyplot as plt\n",
    "from matplotlib import colors\n",
    "import seaborn as sns\n",
    "import numpy as np"
   ]
  },
  {
   "cell_type": "markdown",
   "metadata": {},
   "source": [
    "### Basic settings"
   ]
  },
  {
   "cell_type": "code",
   "execution_count": 2,
   "metadata": {
    "execution": {
     "iopub.execute_input": "2020-12-18T13:41:29.649852Z",
     "iopub.status.busy": "2020-12-18T13:41:29.649290Z",
     "iopub.status.idle": "2020-12-18T13:41:29.651011Z",
     "shell.execute_reply": "2020-12-18T13:41:29.651498Z"
    }
   },
   "outputs": [],
   "source": [
    "path = '../data/'\n",
    "skim_type = 'dist'\n",
    "time = 'AM'\n",
    "var = 'DISTDA'\n",
    "geo = 'taz'\n",
    "mode = 'auto'\n",
    "\n",
    "mtc_fname = f'outputs/{mode}/{geo}_{skim_type}_skim_{time}_perveh.csv'\n",
    "new_fname = f'new_outputs/{mode}/{geo}_{skim_type}_skim_{time}_perveh.csv'\n",
    "\n",
    "plot_title = 'TAZ distance skim comparison'\n",
    "plot_subtitle = 'Personal Vehicle (Drive Alone), AM'\n",
    "plot_xlabel = 'MTC network skim (miles)'\n",
    "plot_ylabel = 'New network skim (miles)'\n",
    "box_xlabel = 'Skim difference (miles)'\n",
    "plot_xlim=(-5, 220)\n",
    "plot_ylim=(-5, 220)"
   ]
  },
  {
   "cell_type": "markdown",
   "metadata": {},
   "source": [
    "### Helper functions"
   ]
  },
  {
   "cell_type": "code",
   "execution_count": 3,
   "metadata": {
    "execution": {
     "iopub.execute_input": "2020-12-18T13:41:29.658368Z",
     "iopub.status.busy": "2020-12-18T13:41:29.657874Z",
     "iopub.status.idle": "2020-12-18T13:41:29.659632Z",
     "shell.execute_reply": "2020-12-18T13:41:29.660120Z"
    }
   },
   "outputs": [],
   "source": [
    "def compare_skim(mtc_skim, new_skim, var, geo):\n",
    "    # select column to compare\n",
    "    select_col = [f'{geo}_o', f'{geo}_d', var]\n",
    "    mtc_skim = mtc_skim[select_col]\n",
    "    new_skim = new_skim[select_col].rename(columns={var:f'{var}_new'})\n",
    "\n",
    "    print('mtc skim shape:', mtc_skim.shape)\n",
    "    print('new skim shape:', new_skim.shape)\n",
    "\n",
    "    # table join two skims based on OD pair\n",
    "    skim = pd.merge(mtc_skim, new_skim, how='inner', on=[f'{geo}_o', f'{geo}_d'])\n",
    "    # print(skim.shape)\n",
    "    print(skim.head())\n",
    "    print('table join completed')\n",
    "\n",
    "    # calculate differences\n",
    "    skim['diff'] = round(skim[f'{var}_new'] - skim[var], 3)\n",
    "    skim['pctdiff'] = round(skim['diff'] / skim[var], 3)\n",
    "    skim = skim.sort_values(by=f'diff', ascending=False)\n",
    "    \n",
    "    return skim\n",
    "\n",
    "def get_n_large_skim_diff(skim_diff, diff_col, n):\n",
    "    skim_diff_sorted = skim_diff.sort_values(by=diff_col, ascending=False)\n",
    "    pos_rows = skim_diff_sorted.head(n)\n",
    "    neg_rows = skim_diff_sorted.tail(n)\n",
    "\n",
    "    return pd.concat([pos_rows, neg_rows], ignore_index=True)\n",
    "\n",
    "def skim_diff_stat(skim, var):\n",
    "    # RMSE\n",
    "    rmse = ((skim[f'{var}_new'] - skim[var])**2).mean() ** 0.5\n",
    "    # R-squared\n",
    "    ssr = ((skim[var] - skim[f'{var}_new'])**2).sum()\n",
    "    sst = ((skim[var] - skim[var].mean())**2).sum()\n",
    "    # print('ssr:', ssr)\n",
    "    # print('sst:', sst)\n",
    "    # print('mean:', skim[var].mean())\n",
    "    r2 = 1 - ssr / sst\n",
    "\n",
    "    return (rmse, r2)"
   ]
  },
  {
   "cell_type": "markdown",
   "metadata": {},
   "source": [
    "### Data Processing"
   ]
  },
  {
   "cell_type": "code",
   "execution_count": 4,
   "metadata": {
    "execution": {
     "iopub.execute_input": "2020-12-18T13:41:29.663596Z",
     "iopub.status.busy": "2020-12-18T13:41:29.663044Z",
     "iopub.status.idle": "2020-12-18T13:41:51.255796Z",
     "shell.execute_reply": "2020-12-18T13:41:51.255222Z"
    }
   },
   "outputs": [],
   "source": [
    "# load data\n",
    "mtc_skim = pd.read_csv(path + mtc_fname)\n",
    "new_skim = pd.read_csv(path + new_fname)"
   ]
  },
  {
   "cell_type": "code",
   "execution_count": 5,
   "metadata": {
    "execution": {
     "iopub.execute_input": "2020-12-18T13:41:51.767254Z",
     "iopub.status.busy": "2020-12-18T13:41:51.766750Z",
     "iopub.status.idle": "2020-12-18T13:42:10.640159Z",
     "shell.execute_reply": "2020-12-18T13:42:10.640721Z"
    }
   },
   "outputs": [
    {
     "name": "stdout",
     "output_type": "stream",
     "text": [
      "mtc skim shape: (22420225, 3)\n",
      "new skim shape: (22420225, 3)\n",
      "   taz_o  taz_d  DISTDA  DISTDA_new\n",
      "0      1      1    0.15        0.14\n",
      "1      1      2    0.56        0.79\n",
      "2      1      3    0.36        0.41\n",
      "3      1      4    6.94        6.42\n",
      "4      1      5    0.35        0.43\n",
      "table join completed\n"
     ]
    }
   ],
   "source": [
    "# compare skim\n",
    "skim_diff = compare_skim(mtc_skim, new_skim, var, geo)"
   ]
  },
  {
   "cell_type": "code",
   "execution_count": 6,
   "metadata": {
    "execution": {
     "iopub.execute_input": "2020-12-18T13:42:10.645767Z",
     "iopub.status.busy": "2020-12-18T13:42:10.645150Z",
     "iopub.status.idle": "2020-12-18T13:42:16.203312Z",
     "shell.execute_reply": "2020-12-18T13:42:16.206255Z"
    }
   },
   "outputs": [],
   "source": [
    "# quantile = skim_diff['DISTDA'].quantile([.1, .2, .3, .4, .5, .6, .7, .8, .9, 1]).to_list() \n",
    "bp = [25, 50, 100, 150] # break points\n",
    "conditions = [\n",
    "    skim_diff['DISTDA']<= bp[0], skim_diff['DISTDA']<= bp[1], skim_diff['DISTDA']<= bp[2], skim_diff['DISTDA']<= bp[3], skim_diff['DISTDA']> bp[3]\n",
    "]\n",
    "choices = ['<=25', '<=50', '<=100', '<=150', '>150']\n",
    "skim_diff['group'] = np.select(conditions, choices, default=0)"
   ]
  },
  {
   "cell_type": "markdown",
   "metadata": {},
   "source": [
    "## Results\n",
    "### Summary Statistics"
   ]
  },
  {
   "cell_type": "code",
   "execution_count": 7,
   "metadata": {
    "execution": {
     "iopub.execute_input": "2020-12-18T13:42:16.210249Z",
     "iopub.status.busy": "2020-12-18T13:42:16.209748Z",
     "iopub.status.idle": "2020-12-18T13:42:17.656160Z",
     "shell.execute_reply": "2020-12-18T13:42:17.656713Z"
    }
   },
   "outputs": [
    {
     "name": "stdout",
     "output_type": "stream",
     "text": [
      "RMSE: 4.175149058800615\n",
      "R-squared: 0.9712049283771292\n"
     ]
    }
   ],
   "source": [
    "rmse, r2 = skim_diff_stat(skim_diff, var)\n",
    "print('RMSE:', rmse)\n",
    "print('R-squared:', r2)"
   ]
  },
  {
   "cell_type": "code",
   "execution_count": 8,
   "metadata": {
    "execution": {
     "iopub.execute_input": "2020-12-18T13:42:19.077504Z",
     "iopub.status.busy": "2020-12-18T13:42:19.076971Z",
     "iopub.status.idle": "2020-12-18T13:42:27.435271Z",
     "shell.execute_reply": "2020-12-18T13:42:27.435942Z"
    }
   },
   "outputs": [
    {
     "data": {
      "text/html": [
       "<div>\n",
       "<style scoped>\n",
       "    .dataframe tbody tr th:only-of-type {\n",
       "        vertical-align: middle;\n",
       "    }\n",
       "\n",
       "    .dataframe tbody tr th {\n",
       "        vertical-align: top;\n",
       "    }\n",
       "\n",
       "    .dataframe thead th {\n",
       "        text-align: right;\n",
       "    }\n",
       "</style>\n",
       "<table border=\"1\" class=\"dataframe\">\n",
       "  <thead>\n",
       "    <tr style=\"text-align: right;\">\n",
       "      <th></th>\n",
       "      <th>dist_group</th>\n",
       "      <th>rmse</th>\n",
       "      <th>r2</th>\n",
       "    </tr>\n",
       "  </thead>\n",
       "  <tbody>\n",
       "    <tr>\n",
       "      <th>0</th>\n",
       "      <td>&lt;=25</td>\n",
       "      <td>1.784020</td>\n",
       "      <td>0.932004</td>\n",
       "    </tr>\n",
       "    <tr>\n",
       "      <th>1</th>\n",
       "      <td>&lt;=50</td>\n",
       "      <td>3.491578</td>\n",
       "      <td>0.765132</td>\n",
       "    </tr>\n",
       "    <tr>\n",
       "      <th>2</th>\n",
       "      <td>&lt;=100</td>\n",
       "      <td>5.844056</td>\n",
       "      <td>0.800101</td>\n",
       "    </tr>\n",
       "    <tr>\n",
       "      <th>3</th>\n",
       "      <td>&lt;=150</td>\n",
       "      <td>7.745284</td>\n",
       "      <td>0.294706</td>\n",
       "    </tr>\n",
       "    <tr>\n",
       "      <th>4</th>\n",
       "      <td>&gt;150</td>\n",
       "      <td>7.710645</td>\n",
       "      <td>-0.059849</td>\n",
       "    </tr>\n",
       "  </tbody>\n",
       "</table>\n",
       "</div>"
      ],
      "text/plain": [
       "  dist_group      rmse        r2\n",
       "0       <=25  1.784020  0.932004\n",
       "1       <=50  3.491578  0.765132\n",
       "2      <=100  5.844056  0.800101\n",
       "3      <=150  7.745284  0.294706\n",
       "4       >150  7.710645 -0.059849"
      ]
     },
     "execution_count": 1,
     "metadata": {},
     "output_type": "execute_result"
    }
   ],
   "source": [
    "rmse_lt25, r2_lt25 = skim_diff_stat(skim_diff[skim_diff['group']=='<=25'], var)\n",
    "rmse_lt50, r2_lt50 = skim_diff_stat(skim_diff[skim_diff['group']=='<=50'], var)\n",
    "rmse_lt100, r2_lt100 = skim_diff_stat(skim_diff[skim_diff['group']=='<=100'], var)\n",
    "rmse_lt150, r2_lt150 = skim_diff_stat(skim_diff[skim_diff['group']=='<=150'], var)\n",
    "rmse_gt150, r2_gt150 = skim_diff_stat(skim_diff[skim_diff['group']=='>150'], var)\n",
    "\n",
    "rmse_by_dist_group = pd.DataFrame({'dist_group': ['<=25', '<=50', '<=100', '<=150', '>150'],\n",
    "                                  'rmse': [rmse_lt25, rmse_lt50, rmse_lt100, rmse_lt150, rmse_gt150],\n",
    "                                  'r2': [r2_lt25, r2_lt50, r2_lt100, r2_lt150, r2_gt150]})\n",
    "rmse_by_dist_group"
   ]
  },
  {
   "cell_type": "markdown",
   "metadata": {},
   "source": [
    "### Plots"
   ]
  },
  {
   "cell_type": "code",
   "execution_count": 9,
   "metadata": {
    "execution": {
     "iopub.execute_input": "2020-12-18T13:42:27.451084Z",
     "iopub.status.busy": "2020-12-18T13:42:27.450446Z",
     "iopub.status.idle": "2020-12-18T13:42:30.115163Z",
     "shell.execute_reply": "2020-12-18T13:42:30.115655Z"
    }
   },
   "outputs": [
    {
     "data": {
      "image/png": "[encoded data removed]",
      "text/plain": [
       "<Figure size 576x396 with 1 Axes>"
      ]
     },
     "metadata": {},
     "output_type": "display_data"
    }
   ],
   "source": [
    "plt.style.use('seaborn')\n",
    "plt.hist2d(skim_diff[var], skim_diff[f'{var}_new'], bins=80, norm=colors.LogNorm(), cmap =\"turbo\")\n",
    "plt.gca().set_aspect(\"equal\")\n",
    "plt.grid(b=None, which='major', axis='both')\n",
    "plt.plot(np.linspace(0, 220, 300), np.linspace(0, 220, 300), color='black', lw=1.5, alpha=0.8)\n",
    "plt.text(10, 150, f'RMSE: {round(rmse,2)}\\nR-squared:{round(r2,2)}', backgroundcolor='w', fontsize=10, weight='bold', linespacing=2)\n",
    "plt.suptitle(plot_title, fontsize=15, weight='bold')\n",
    "plt.title(plot_subtitle, fontsize=12)\n",
    "plt.xlabel(plot_xlabel, fontsize=12, labelpad=5)\n",
    "plt.ylabel(plot_ylabel, fontsize=12, labelpad=5)\n",
    "plt.xlim(plot_xlim)\n",
    "plt.ylim(plot_ylim)\n",
    "plt.show()"
   ]
  },
  {
   "cell_type": "code",
   "execution_count": 10,
   "metadata": {
    "execution": {
     "iopub.execute_input": "2020-12-18T13:42:30.804172Z",
     "iopub.status.busy": "2020-12-18T13:42:30.803580Z",
     "iopub.status.idle": "2020-12-18T13:42:43.250285Z",
     "shell.execute_reply": "2020-12-18T13:42:43.250786Z"
    }
   },
   "outputs": [
    {
     "data": {
      "image/png": "[encoded data removed]",
      "text/plain": [
       "<Figure size 576x396 with 1 Axes>"
      ]
     },
     "metadata": {},
     "output_type": "display_data"
    }
   ],
   "source": [
    "sns.set_theme()\n",
    "sns.boxplot(data=skim_diff, x='group', y='diff')\n",
    "plt.suptitle(plot_title, fontsize=15, weight='bold')\n",
    "plt.title(plot_subtitle, fontsize=12)\n",
    "plt.xlabel('Distance Gruop (miles)', fontsize=12, labelpad=5)\n",
    "plt.ylabel('Distance Changes (miles)', fontsize=12, labelpad=5)\n",
    "plt.show()"
   ]
  }
 ],
 "metadata": {
  "kernelspec": {
   "display_name": "Python 3",
   "language": "python",
   "name": "python3"
  },
  "language_info": {
   "codemirror_mode": {
    "name": "ipython",
    "version": 3
   },
   "file_extension": ".py",
   "mimetype": "text/x-python",
   "name": "python",
   "nbconvert_exporter": "python",
   "pygments_lexer": "ipython3",
   "version": "3.8.2"
  }
 },
 "nbformat": 4,
 "nbformat_minor": 2
}
